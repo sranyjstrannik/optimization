{
 "cells": [
  {
   "cell_type": "markdown",
   "metadata": {},
   "source": [
    "## Поиск кратчайшего пути между двумя вершинами графа с помощью алгоритма Дейкстры и муравьиной оптимизации"
   ]
  },
  {
   "cell_type": "code",
   "execution_count": 1,
   "metadata": {
    "collapsed": true
   },
   "outputs": [],
   "source": [
    "import numpy as np\n",
    "from matplotlib import pyplot as plt\n",
    "%matplotlib inline\n",
    "import random\n",
    "from numpy.random import choice as np_choice\n",
    "from tqdm import tqdm"
   ]
  },
  {
   "cell_type": "code",
   "execution_count": 2,
   "metadata": {
    "collapsed": true
   },
   "outputs": [],
   "source": [
    "# возвращает матрицу размером NxN с неотрицательными весами\n",
    "def generate_graph(N):\n",
    "    matrix = np.zeros(N*N,dtype='float').reshape((N,N))\n",
    "    # указываем, что вершины не связаны сами с собой\n",
    "    for i in range(N): matrix[i, i] = np.float('inf')\n",
    "    # создаем \"каркас\", чтоб точно получилась ровно одна компонента связности    \n",
    "    path = list(range(N))\n",
    "    random.shuffle(path)\n",
    "    for v1, v2 in zip(path, path[1:]):\n",
    "        matrix[v1, v2] = matrix[v2, v1] = random.random() + 0.3\n",
    "    # добавляем случайное количество новых ребер\n",
    "    for i in range(N):\n",
    "        for j in range(i+1, N):\n",
    "            if np.isclose(matrix[i, j], 0):\n",
    "                matrix[i, j] = matrix[j, i] = np.float('inf') if random.random() < 0.8 else random.random() + 0.5\n",
    "    return matrix"
   ]
  },
  {
   "cell_type": "code",
   "execution_count": 3,
   "metadata": {},
   "outputs": [
    {
     "data": {
      "text/plain": [
       "(500, 500)"
      ]
     },
     "execution_count": 3,
     "metadata": {},
     "output_type": "execute_result"
    }
   ],
   "source": [
    "N = 500\n",
    "start, end = random.randint(0, N-1), random.randint(0, N-1)\n",
    "M = generate_graph(N)\n",
    "M.shape"
   ]
  },
  {
   "cell_type": "code",
   "execution_count": 38,
   "metadata": {},
   "outputs": [],
   "source": [
    "def dijikstra(M, N, s, e):\n",
    "    # длины путей\n",
    "    d = [np.float('inf') for _ in range(N)]\n",
    "    d[s] = 0\n",
    "    # метки посещенных вершин\n",
    "    labels  = [1 for _ in range(N)] \n",
    "  \n",
    "    while True:\n",
    "        minindex = -1\n",
    "        min = np.float('inf')\n",
    "        for i in range(N):\n",
    "            if labels[i] and d[i] < min:\n",
    "                min = d[i]\n",
    "                minindex = i\n",
    "        \n",
    "        if minindex >= 0:\n",
    "            for i in range(N):\n",
    "                if M[minindex][i] < np.float('inf'):\n",
    "                    temp = min + M[minindex][i]\n",
    "                    if temp < d[i]: d[i] = temp\n",
    "            labels[minindex] = 0;\n",
    "        else: break\n",
    "    \n",
    "    return d[e]"
   ]
  },
  {
   "cell_type": "code",
   "execution_count": 39,
   "metadata": {},
   "outputs": [
    {
     "data": {
      "text/plain": [
       "0.96530635694635625"
      ]
     },
     "execution_count": 39,
     "metadata": {},
     "output_type": "execute_result"
    }
   ],
   "source": [
    "dijikstra(M, N, 0, 200)"
   ]
  },
  {
   "cell_type": "code",
   "execution_count": 44,
   "metadata": {
    "collapsed": true
   },
   "outputs": [],
   "source": [
    "# возвращает средний путь\n",
    "def ant_colony(M, N, s, e, num_of_ants=200, alpha=0.7, beta=2, times=300, p_=0.1):\n",
    "    pheromones = np.ones(M.shape)\n",
    "    # вероятность перехода между s и i\n",
    "    probs = np.ones(M.shape)\n",
    "    \n",
    "    # муравьи ищут путь между s и e\n",
    "    # возвращают все эти пути\n",
    "    def ant_search(s, e):\n",
    "        paths = []\n",
    "        \n",
    "        # инициализируем вероятности\n",
    "        for i in range(N):\n",
    "            for j in range(N):\n",
    "                probs[i, j] = probs[j, i] = pheromones[j, i]**alpha * (((1/M[j, i])**beta) if M[j, i] < float('inf') else 0)\n",
    "        \n",
    "        # для каждого муравья находим путь\n",
    "        for i in range(num_of_ants):\n",
    "            current, pher, path = s, 1, [s] \n",
    "            while current != e and pher > 0:\n",
    "                next = np.random.choice(list(range(N)),1,p=probs[current]/sum(probs[current]))[0]\n",
    "                pher -= p_\n",
    "                path.append(next)\n",
    "                current = next\n",
    "            if pher > 0:\n",
    "                paths.append(path) \n",
    "        return paths    \n",
    "    \n",
    "    # сколько эпох\n",
    "    for t in tqdm(range(times)):\n",
    "        # находим пути\n",
    "        paths = ant_search(s, e)\n",
    "        # print(len(paths))\n",
    "        path_costs = []\n",
    "        # обновляем феромоны\n",
    "        for p in paths:\n",
    "            path_cost = sum(M[x,y] for x, y in zip(p, p[1:]))\n",
    "            path_costs.append(path_cost)\n",
    "            for a,b in zip(p, p[1:]):\n",
    "                pheromones[a,b] = (1-p_)*pheromones[a,b] + 1000/path_cost\n",
    "        #print(np.mean(path_costs))\n",
    "    \n",
    "    \n",
    "    paths = []\n",
    "     # для каждого муравья находим путь\n",
    "    for i in range(num_of_ants):\n",
    "        current, pher, path = s, 1, [s] \n",
    "        while current != e and pher > 0:\n",
    "            next = np.random.choice(list(range(N)),1,p=probs[current]/sum(probs[current]))[0]\n",
    "            pher -= p_\n",
    "            path.append(next)\n",
    "            current = next\n",
    "        if pher > 0:\n",
    "            paths.append(path)\n",
    "        \n",
    "    \n",
    "    path_costs = [sum(M[x,y] for x, y in zip(p, p[1:])) for p in paths]\n",
    "    print(paths[np.argmin(path_costs)], min(path_costs))\n",
    "    return np.mean(path_costs), np.mean([len(p) for p in paths]), sum(np.isclose(path_costs, dijikstra(M, N, s, e)))\n",
    "\n",
    "        "
   ]
  },
  {
   "cell_type": "code",
   "execution_count": 45,
   "metadata": {},
   "outputs": [
    {
     "name": "stderr",
     "output_type": "stream",
     "text": [
      "100%|████████████████████████████████████████| 300/300 [05:47<00:00,  1.16s/it]\n"
     ]
    },
    {
     "name": "stdout",
     "output_type": "stream",
     "text": [
      "[0, 223, 242, 404, 101, 200] 2.74055549825\n"
     ]
    },
    {
     "data": {
      "text/plain": [
       "(4.7571949960592148, 7.5625, 0)"
      ]
     },
     "execution_count": 45,
     "metadata": {},
     "output_type": "execute_result"
    }
   ],
   "source": [
    "ant_colony(M, N, 0, 200)"
   ]
  }
 ],
 "metadata": {
  "anaconda-cloud": {},
  "kernelspec": {
   "display_name": "Python [default]",
   "language": "python",
   "name": "python3"
  },
  "language_info": {
   "codemirror_mode": {
    "name": "ipython",
    "version": 3
   },
   "file_extension": ".py",
   "mimetype": "text/x-python",
   "name": "python",
   "nbconvert_exporter": "python",
   "pygments_lexer": "ipython3",
   "version": "3.5.2"
  }
 },
 "nbformat": 4,
 "nbformat_minor": 2
}

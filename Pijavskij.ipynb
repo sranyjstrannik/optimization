{
 "cells": [
  {
   "cell_type": "markdown",
   "metadata": {},
   "source": [
    "## Нахождение минимума функции методом Пиявского"
   ]
  },
  {
   "cell_type": "code",
   "execution_count": 105,
   "metadata": {
    "collapsed": true
   },
   "outputs": [],
   "source": [
    "from ipywidgets import interact, interactive, fixed, interact_manual\n",
    "import ipywidgets as widgets\n",
    "from operator import itemgetter\n",
    "from matplotlib import pyplot as plt\n",
    "from IPython.display import display\n",
    "import numpy as np\n",
    "import math\n",
    "%matplotlib inline"
   ]
  },
  {
   "cell_type": "code",
   "execution_count": 106,
   "metadata": {
    "collapsed": true
   },
   "outputs": [],
   "source": [
    "def pairwise(l):\n",
    "    for t in zip(l, l[1:]):\n",
    "        yield t"
   ]
  },
  {
   "cell_type": "code",
   "execution_count": 107,
   "metadata": {
    "collapsed": true
   },
   "outputs": [],
   "source": [
    "# n step function for interactive visualization\n",
    "def pijavskij_n(f, L, a, b, N=3):\n",
    "    xa, ya, xb, yb = a, f(a), b, f(b)\n",
    "    x = (yb - ya - L * (xb + xa))/(-2 * L)\n",
    "    y = ya - L*(x - xa)\n",
    "    pjvsk = [[(xa, ya), (x, y), (xb, yb)]]\n",
    "    points = [[x, f(x)]]\n",
    "    index = 1\n",
    "    for i in range(N-1):\n",
    "        r = pjvsk[-1].copy()\n",
    "        r[index] = points[-1]\n",
    "        (xa, ya), (xb, yb) = r[index-1], r[index]\n",
    "        x1 = (yb - ya - L * (xb + xa))/(-2 * L)\n",
    "        y1 = ya - L*(x1 - xa)\n",
    "        (xa, ya), (xb, yb) = r[index], r[index+1]\n",
    "        x2 = (yb - ya - L * (xb + xa))/(-2 * L)\n",
    "        y2 = ya - L*(x2 - xa)\n",
    "        r.append([x1, y1]) \n",
    "        r.append([x2, y2])\n",
    "        r.sort(key=itemgetter(0))    \n",
    "        pjvsk.append(r.copy())\n",
    "        xx = sorted(r, key=itemgetter(1))[0][0]\n",
    "        points.append((xx, f(xx)))\n",
    "        for i,(xxx, _) in enumerate(r):\n",
    "            if xxx == xx:\n",
    "                index = i\n",
    "                break\n",
    "    return pjvsk, points"
   ]
  },
  {
   "cell_type": "code",
   "execution_count": 108,
   "metadata": {},
   "outputs": [
    {
     "data": {
      "application/vnd.jupyter.widget-view+json": {
       "model_id": "d3d5e6303b354f618a1bac3561db1d33",
       "version_major": 2,
       "version_minor": 0
      },
      "text/html": [
       "<p>Failed to display Jupyter Widget of type <code>interactive</code>.</p>\n",
       "<p>\n",
       "  If you're reading this message in Jupyter Notebook or JupyterLab, it may mean\n",
       "  that the widgets JavaScript is still loading. If this message persists, it\n",
       "  likely means that the widgets JavaScript library is either not installed or\n",
       "  not enabled. See the <a href=\"https://ipywidgets.readthedocs.io/en/stable/user_install.html\">Jupyter\n",
       "  Widgets Documentation</a> for setup instructions.\n",
       "</p>\n",
       "<p>\n",
       "  If you're reading this message in another notebook frontend (for example, a static\n",
       "  rendering on GitHub or <a href=\"https://nbviewer.jupyter.org/\">NBViewer</a>),\n",
       "  it may mean that your frontend doesn't currently support widgets.\n",
       "</p>\n"
      ],
      "text/plain": [
       "interactive(children=(Text(value='np.sin(x)*x**3', description='f'), FloatSlider(value=-2.2, description='a', min=-100.0), FloatSlider(value=2.4, description='b'), IntSlider(value=3, description='n', max=20, min=1), Text(value='5', description='L'), Button(description='Run Interact', style=ButtonStyle()), Output()), _dom_classes=('widget-interact',))"
      ]
     },
     "metadata": {},
     "output_type": "display_data"
    }
   ],
   "source": [
    "# interactive visualizaiton\n",
    "@interact_manual(n=(1, 20, 1), L='5', b=(0, 100, 0.1), a=(-100, 100, 0.1))\n",
    "def plot_funct(f='np.sin(x)*x**3', a=-2.2, b=2.4, n=3, L=1):\n",
    "    x = np.linspace(a, b, 1000)\n",
    "    plt.figure(figsize=(20, 10))\n",
    "    y = (lambda x: eval(f))(x)\n",
    "    miny = min(y)\n",
    "    L = float(L)\n",
    "    plt.plot(x, y, label='initial function', ls='--', color='black')\n",
    "    \n",
    "    pijavskij_results, pijavskij_points = pijavskij_n(lambda x:eval(f), L, a, b, n)\n",
    "    \n",
    "    for i, r in enumerate(pijavskij_results[-3:], 1):\n",
    "        rn = np.array(r)\n",
    "        plt.plot(rn[:, 0], rn[:, 1], label='step #{}'.format(n-(3-i)), color='blue',\n",
    "                 alpha=[0.2,0.4, 1][i-1], \n",
    "                 lw=[15, 6, 1][i-1]);\n",
    "        \n",
    "    pp = np.array(pijavskij_points)\n",
    "    plt.scatter(pp[:,0], pp[:,1], color='red', lw=5)\n",
    "    plt.axhline(y=miny, color='g')\n",
    "    \n",
    "    plt.legend()\n",
    "    plt.show();"
   ]
  },
  {
   "cell_type": "code",
   "execution_count": 103,
   "metadata": {
    "collapsed": true
   },
   "outputs": [],
   "source": [
    "# same function but until converging\n",
    "def pijavskij(f, L, a, b, eps=10e-5):\n",
    "    xa, ya, xb, yb = a, f(a), b, f(b)\n",
    "    x = (yb - ya - L * (xb + xa))/(-2 * L)\n",
    "    y = ya - L*(x - xa)\n",
    "    pjvsk = [[(xa, ya), (x, y), (xb, yb)]]\n",
    "    last = (x,f(x))\n",
    "    index = 1\n",
    "    steps = 0\n",
    "    while True:\n",
    "        steps += 1\n",
    "        r = pjvsk[-1].copy()\n",
    "        r[index] = last\n",
    "        (xa, ya), (xb, yb) = r[index-1], r[index]\n",
    "        x1 = (yb - ya - L * (xb + xa))/(-2 * L)\n",
    "        y1 = ya - L*(x1 - xa)\n",
    "        (xa, ya), (xb, yb) = r[index], r[index+1]\n",
    "        x2 = (yb - ya - L * (xb + xa))/(-2 * L)\n",
    "        y2 = ya - L*(x2 - xa)\n",
    "        r.append([x1, y1]) \n",
    "        r.append([x2, y2])\n",
    "        r.sort(key=itemgetter(0))    \n",
    "        pjvsk.append(r.copy())\n",
    "        xx = sorted(r, key=itemgetter(1))[0][0]\n",
    "        for i,(xxx, _) in enumerate(r):\n",
    "            if xxx == xx:\n",
    "                index = i\n",
    "                break\n",
    "        next = f(xxx)\n",
    "        if np.isclose(next,last[1],eps):\n",
    "            print(\"#steps:\", steps)\n",
    "            return (xx, next)\n",
    "        last = (xx,next)\n"
   ]
  },
  {
   "cell_type": "code",
   "execution_count": 104,
   "metadata": {},
   "outputs": [
    {
     "name": "stdout",
     "output_type": "stream",
     "text": [
      "#steps: 58\n"
     ]
    },
    {
     "data": {
      "text/plain": [
       "(2.3999454672389455, -2.3786349113885668)"
      ]
     },
     "execution_count": 104,
     "metadata": {},
     "output_type": "execute_result"
    }
   ],
   "source": [
    "pijavskij(lambda x:0.1667*np.exp(-0.8571*x)-x, L= np.exp(2)+2, a=-2.2, b=2.4)"
   ]
  }
 ],
 "metadata": {
  "anaconda-cloud": {},
  "kernelspec": {
   "display_name": "Python [conda root]",
   "language": "python",
   "name": "conda-root-py"
  },
  "language_info": {
   "codemirror_mode": {
    "name": "ipython",
    "version": 3
   },
   "file_extension": ".py",
   "mimetype": "text/x-python",
   "name": "python",
   "nbconvert_exporter": "python",
   "pygments_lexer": "ipython3",
   "version": "3.5.2"
  }
 },
 "nbformat": 4,
 "nbformat_minor": 2
}

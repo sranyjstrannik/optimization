{
 "cells": [
  {
   "cell_type": "markdown",
   "metadata": {},
   "source": [
    "## Нахождение минимума функции методом Пиявского"
   ]
  },
  {
   "cell_type": "code",
   "execution_count": 41,
   "metadata": {
    "collapsed": true
   },
   "outputs": [],
   "source": [
    "from ipywidgets import interact, interactive, fixed, interact_manual\n",
    "import ipywidgets as widgets\n",
    "from operator import itemgetter\n",
    "from matplotlib import pyplot as plt\n",
    "from IPython.display import display\n",
    "import numpy as np\n",
    "import math\n",
    "%matplotlib inline"
   ]
  },
  {
   "cell_type": "code",
   "execution_count": 3,
   "metadata": {
    "collapsed": true
   },
   "outputs": [],
   "source": [
    "def pairwise(l):\n",
    "    for t in zip(l, l[1:]):\n",
    "        yield t"
   ]
  },
  {
   "cell_type": "code",
   "execution_count": 140,
   "metadata": {},
   "outputs": [],
   "source": [
    "# n step function for interactive visualization\n",
    "def pijavskij_n(f, L, a, b, N=3):\n",
    "    l = [(a, f(a)), (b, f(b))]\n",
    "    results = []\n",
    "    points = []\n",
    "    n = 0\n",
    "    while n < N:\n",
    "        n += 1\n",
    "        imin, Rmin, xmin = -1, float(\"inf\"), -1\n",
    "        for i, t in enumerate(pairwise(l)):\n",
    "            (xi, fi), (xj, fj) = t\n",
    "            R = (fi + fj - L * (xj - xi)) / 2\n",
    "            if R < Rmin:\n",
    "                imin = i\n",
    "                Rmin = R\n",
    "                xmin = (xi + xj) / 2 - (fj - fi) / (2 * L)\n",
    "\n",
    "        l.append((xmin, f(xmin)))\n",
    "        l.sort(key=itemgetter(0))\n",
    "        results.append(l.copy())\n",
    "        points.append(sorted(l.copy(), key=itemgetter(1))[0])\n",
    "\n",
    "    return results, points"
   ]
  },
  {
   "cell_type": "code",
   "execution_count": 145,
   "metadata": {},
   "outputs": [
    {
     "data": {
      "application/vnd.jupyter.widget-view+json": {
       "model_id": "7f9cbf102f3a401d8cea1b1889e89113",
       "version_major": 2,
       "version_minor": 0
      },
      "text/html": [
       "<p>Failed to display Jupyter Widget of type <code>interactive</code>.</p>\n",
       "<p>\n",
       "  If you're reading this message in Jupyter Notebook or JupyterLab, it may mean\n",
       "  that the widgets JavaScript is still loading. If this message persists, it\n",
       "  likely means that the widgets JavaScript library is either not installed or\n",
       "  not enabled. See the <a href=\"https://ipywidgets.readthedocs.io/en/stable/user_install.html\">Jupyter\n",
       "  Widgets Documentation</a> for setup instructions.\n",
       "</p>\n",
       "<p>\n",
       "  If you're reading this message in another notebook frontend (for example, a static\n",
       "  rendering on GitHub or <a href=\"https://nbviewer.jupyter.org/\">NBViewer</a>),\n",
       "  it may mean that your frontend doesn't currently support widgets.\n",
       "</p>\n"
      ],
      "text/plain": [
       "interactive(children=(Text(value='0.1667*np.exp(-0.8571*x)-x', description='f'), FloatSlider(value=-2.2, description='a', min=-100.0), FloatSlider(value=2.4, description='b'), IntSlider(value=5, description='n', min=3), Text(value='1', description='L'), Output()), _dom_classes=('widget-interact',))"
      ]
     },
     "metadata": {},
     "output_type": "display_data"
    }
   ],
   "source": [
    "# interactive visualizaiton\n",
    "@interact(n=(3, 100, 1), L='1', b=(0, 100, 0.1), a=(-100, 100, 0.1))\n",
    "def plot_funct(f='0.1667*np.exp(-0.8571*x)-x', a=-2.2, b=2.4, n=5, L=1):\n",
    "    x = np.linspace(a, b, 1000)\n",
    "    plt.figure(figsize=(20, 10))\n",
    "    y = (lambda x: eval(f))(x)\n",
    "    L = float(L)\n",
    "    plt.plot(x, y, label='initial function', ls='--', color='black')\n",
    "    \n",
    "    pijavskij_results, pijavskij_points = pijavskij_n(lambda x:eval(f), L, a, b, n)\n",
    "    \n",
    "    for i, r in enumerate(pijavskij_results[-3:], 1):\n",
    "        rn = np.array(r)\n",
    "        plt.plot(rn[:,0], rn[:, 1], label='step #{}'.format(n-(3-i)), color='blue',\n",
    "                 alpha=[0.2,0.4, 1][i-1], \n",
    "                 lw=[15, 6, 1][i-1]);\n",
    "        \n",
    "    pp = np.array(pijavskij_points)\n",
    "    plt.scatter(pp[:,0], pp[:,1], color='red', lw=5)\n",
    "    \n",
    "    \n",
    "    plt.legend()\n",
    "    plt.show();"
   ]
  },
  {
   "cell_type": "code",
   "execution_count": 148,
   "metadata": {},
   "outputs": [],
   "source": [
    "# same function but until converging\n",
    "def pijavskij(f, L, a, b, eps=10e-5):\n",
    "    l = [(a, f(a)), (b, f(b))]\n",
    "    n = 0\n",
    "    while True:\n",
    "        n += 1\n",
    "        imin, Rmin, xmin = -1, float(\"inf\"), -1\n",
    "        for i, t in enumerate(pairwise(l)):\n",
    "            (xi, fi), (xj, fj) = t\n",
    "            R = (fi + fj - L * (xj - xi)) / 2\n",
    "            if R < Rmin:\n",
    "                imin = i\n",
    "                Rmin = R\n",
    "                xmin = (xi + xj) / 2 - (fj - fi) / (2 * L)\n",
    "\n",
    "        if l[imin + 1][0] - l[imin][0] < eps:\n",
    "            print('Steps:', n)\n",
    "            print('Point:', l[imin][0])\n",
    "            print('Value:', l[imin][1])\n",
    "            return l[imin], l[imin + 1]\n",
    "\n",
    "        l.append((xmin, f(xmin)))\n",
    "        l.sort(key=itemgetter(0))\n"
   ]
  },
  {
   "cell_type": "code",
   "execution_count": 149,
   "metadata": {},
   "outputs": [
    {
     "name": "stdout",
     "output_type": "stream",
     "text": [
      "Steps: 64\n",
      "Point: 2.39994546724\n",
      "Value: -2.37863491139\n"
     ]
    },
    {
     "data": {
      "text/plain": [
       "((2.3999454672389455, -2.3786349113885668), (2.4, -2.3786904401823525))"
      ]
     },
     "execution_count": 149,
     "metadata": {},
     "output_type": "execute_result"
    }
   ],
   "source": [
    "pijavskij(lambda x:0.1667*np.exp(-0.8571*x)-x, L= np.exp(2)+2, a=-2.2, b=2.4)"
   ]
  }
 ],
 "metadata": {
  "anaconda-cloud": {},
  "kernelspec": {
   "display_name": "Python [conda root]",
   "language": "python",
   "name": "conda-root-py"
  },
  "language_info": {
   "codemirror_mode": {
    "name": "ipython",
    "version": 3
   },
   "file_extension": ".py",
   "mimetype": "text/x-python",
   "name": "python",
   "nbconvert_exporter": "python",
   "pygments_lexer": "ipython3",
   "version": "3.5.2"
  }
 },
 "nbformat": 4,
 "nbformat_minor": 2
}

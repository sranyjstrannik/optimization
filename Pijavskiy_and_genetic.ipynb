{
 "cells": [
  {
   "cell_type": "markdown",
   "metadata": {},
   "source": [
    "## Сравнение метода Пиявского и генетического алгорима для поиска минимума"
   ]
  },
  {
   "cell_type": "code",
   "execution_count": 2,
   "metadata": {
    "collapsed": true
   },
   "outputs": [],
   "source": [
    "from matplotlib import pyplot as plt\n",
    "import random\n",
    "import math\n",
    "import numpy as np\n",
    "from operator import itemgetter\n",
    "%matplotlib inline"
   ]
  },
  {
   "cell_type": "code",
   "execution_count": 4,
   "metadata": {
    "collapsed": true
   },
   "outputs": [],
   "source": [
    "def pijavskij(f, L, a, b, eps=1e-5):\n",
    "    xa, ya, xb, yb = a, f(a), b, f(b)\n",
    "    x = (yb - ya - L * (xb + xa))/(-2 * L)\n",
    "    y = ya - L*(x - xa)\n",
    "    pjvsk = [[(xa, ya), (x, y), (xb, yb)]]\n",
    "    last = (x,f(x))\n",
    "    index = 1\n",
    "    steps = 0\n",
    "    while True:\n",
    "        steps += 1\n",
    "        r = pjvsk[-1].copy()\n",
    "        r[index] = last\n",
    "        (xa, ya), (xb, yb) = r[index-1], r[index]\n",
    "        x1 = (yb - ya - L * (xb + xa))/(-2 * L)\n",
    "        y1 = ya - L*(x1 - xa)\n",
    "        (xa, ya), (xb, yb) = r[index], r[index+1]\n",
    "        x2 = (yb - ya - L * (xb + xa))/(-2 * L)\n",
    "        y2 = ya - L*(x2 - xa)\n",
    "        r.append([x1, y1]) \n",
    "        r.append([x2, y2])\n",
    "        r.sort(key=itemgetter(0))    \n",
    "        pjvsk.append(r.copy())\n",
    "        xx = sorted(r, key=itemgetter(1))[0][0]\n",
    "        for i,(xxx, _) in enumerate(r):\n",
    "            if xxx == xx:\n",
    "                index = i\n",
    "                break\n",
    "        next = f(xxx)\n",
    "        if np.isclose(next,last[1],eps):\n",
    "            print(\"#steps:\", steps)\n",
    "            return (xx, next)\n",
    "        last = (xx,next)"
   ]
  },
  {
   "cell_type": "code",
   "execution_count": 5,
   "metadata": {
    "collapsed": true
   },
   "outputs": [],
   "source": [
    "def genetic(f, a, b, eps=1e-10):\n",
    "    POPULATION = 16\n",
    "    DIGITS_AFTER_POINT = 6\n",
    "    TOP = 12\n",
    "    \n",
    "    genes = np.array([random.random()*(b-a)+a for p in range(POPULATION)])*10**DIGITS_AFTER_POINT\n",
    "    genes = np.ceil(genes)\n",
    "    \n",
    "    def crossover(x, y, p=0.6):\n",
    "        return ''.join(xg if random.random() < p else yg for xg,yg in zip(x,y))\n",
    "    \n",
    "    @np.vectorize\n",
    "    def mutate(x, p=0.01):\n",
    "        return int(''.join(xg if random.random() > p else {'0':'1', '1':'0'}[xg] for xg in list(x)), 2)\n",
    "    \n",
    "    \n",
    "    scores = f(genes/10**DIGITS_AFTER_POINT)\n",
    "    \n",
    "    gens_scores_zip = list(zip(genes, scores))\n",
    "    gens_scores_zip.sort(key = lambda x:x[1]) \n",
    "    gens_scores_zip = np.array(gens_scores_zip) \n",
    "    \n",
    "    best_gen, best_score = gens_scores_zip[0]\n",
    "    \n",
    "    n = 0\n",
    "    k = 0\n",
    "    \n",
    "    while True:\n",
    "        n += 1\n",
    "        genes_to_crossover = [bin(int(g))[2:] for g in gens_scores_zip[:TOP, 0]]\n",
    "        new_genes = np.array([crossover(g1, g2) for g1, g2 in zip(genes_to_crossover[::2], genes_to_crossover[1::2])])\n",
    "        genes = mutate(np.append(genes_to_crossover, new_genes))\n",
    "        scores = f(genes/10**DIGITS_AFTER_POINT)\n",
    "        gens_scores_zip = list(zip(genes, scores))\n",
    "        gens_scores_zip.sort(key = lambda x:x[1]) \n",
    "        gens_scores_zip = np.array(gens_scores_zip) \n",
    "        if np.isclose(gens_scores_zip[0,1], best_score, eps):\n",
    "            k += 1\n",
    "            if k > 50:\n",
    "                return gens_scores_zip[0,0]/10**DIGITS_AFTER_POINT, gens_scores_zip[0, 1], n\n",
    "        if n > 1000:\n",
    "            return gens_scores_zip[0,0]/10**DIGITS_AFTER_POINT, gens_scores_zip[0, 1], n\n",
    "        else: best_gen, best_score = gens_scores_zip[0]\n",
    "        "
   ]
  },
  {
   "cell_type": "code",
   "execution_count": 6,
   "metadata": {
    "collapsed": true
   },
   "outputs": [],
   "source": [
    "f = lambda x: np.sin(x)*1/x\n",
    "A = 0.1\n",
    "B = 15\n",
    "eps = 1e-5"
   ]
  },
  {
   "cell_type": "code",
   "execution_count": 7,
   "metadata": {},
   "outputs": [
    {
     "data": {
      "image/png": "[encoded data removed]",
      "text/plain": [
       "<matplotlib.figure.Figure at 0x1ef7fed4f98>"
      ]
     },
     "metadata": {},
     "output_type": "display_data"
    }
   ],
   "source": [
    "x = np.linspace(A, B, 10000)\n",
    "plt.plot(x, f(x))\n",
    "plt.show();"
   ]
  },
  {
   "cell_type": "code",
   "execution_count": 8,
   "metadata": {},
   "outputs": [
    {
     "name": "stdout",
     "output_type": "stream",
     "text": [
      "(4.4564469999999998, -0.21708442985629109, 58)\n",
      "(4.456442, -0.21708438938139527, 62)\n",
      "(4.4934130000000003, -0.21723362820985889, 53)\n",
      "(4.4564149999999998, -0.21708417072160757, 60)\n",
      "(4.1943020000000004, -0.20713056250929607, 64)\n",
      "(4.4892149999999997, -0.21723171607627051, 56)\n",
      "(4.4564469999999998, -0.21708442985629109, 60)\n",
      "(4.1943029999999997, -0.20713063119486252, 65)\n",
      "(4.4564469999999998, -0.21708442985629109, 57)\n",
      "(4.4563810000000004, -0.21708389514335835, 57)\n",
      "(4.7185920000000001, -0.21192354866356616, 61)\n",
      "(4.4933110000000003, -0.21723362715827924, 53)\n",
      "(4.4934399999999997, -0.21723362810990224, 54)\n",
      "(4.493309, -0.21723362711506708, 53)\n",
      "(4.1922550000000003, -0.20698946025392928, 57)\n",
      "(4.4564469999999998, -0.21708442985629109, 53)\n",
      "(4.4564469999999998, -0.21708442985629109, 61)\n",
      "(4.1942700000000004, -0.20712836444450969, 62)\n",
      "(4.4564469999999998, -0.21708442985629109, 61)\n",
      "(4.5219839999999998, -0.2171453217089227, 60)\n",
      "(4.4892149999999997, -0.21723171607627051, 64)\n",
      "(4.4564469999999998, -0.21708442985629109, 66)\n",
      "(4.4564459999999997, -0.21708442176175338, 59)\n",
      "(4.5219839999999998, -0.2171453217089227, 53)\n",
      "(4.4564469999999998, -0.21708442985629109, 67)\n",
      "(4.4888300000000001, -0.21723134881555065, 52)\n",
      "(4.1942909999999998, -0.20712980695223224, 56)\n",
      "(4.4564130000000004, -0.21708415451818538, 66)\n",
      "(4.4891990000000002, -0.21723170145599274, 64)\n",
      "(4.7185920000000001, -0.21192354866356616, 63)\n",
      "10 loops, best of 3: 29.5 ms per loop\n"
     ]
    }
   ],
   "source": [
    "%%timeit -n 10\n",
    "print(genetic(f, A, B, eps))"
   ]
  },
  {
   "cell_type": "code",
   "execution_count": 9,
   "metadata": {},
   "outputs": [
    {
     "name": "stdout",
     "output_type": "stream",
     "text": [
      "#steps: 122\n",
      "(4.4971193690170237, -0.21723213409405515)\n",
      "#steps: 122\n",
      "(4.4971193690170237, -0.21723213409405515)\n",
      "#steps: 122\n",
      "(4.4971193690170237, -0.21723213409405515)\n",
      "#steps: 122\n",
      "(4.4971193690170237, -0.21723213409405515)\n",
      "#steps: 122\n",
      "(4.4971193690170237, -0.21723213409405515)\n",
      "#steps: 122\n",
      "(4.4971193690170237, -0.21723213409405515)\n",
      "#steps: 122\n",
      "(4.4971193690170237, -0.21723213409405515)\n",
      "#steps: 122\n",
      "(4.4971193690170237, -0.21723213409405515)\n",
      "#steps: 122\n",
      "(4.4971193690170237, -0.21723213409405515)\n",
      "#steps: 122\n",
      "(4.4971193690170237, -0.21723213409405515)\n",
      "#steps: 122\n",
      "(4.4971193690170237, -0.21723213409405515)\n",
      "#steps: 122\n",
      "(4.4971193690170237, -0.21723213409405515)\n",
      "#steps: 122\n",
      "(4.4971193690170237, -0.21723213409405515)\n",
      "#steps: 122\n",
      "(4.4971193690170237, -0.21723213409405515)\n",
      "#steps: 122\n",
      "(4.4971193690170237, -0.21723213409405515)\n",
      "#steps: 122\n",
      "(4.4971193690170237, -0.21723213409405515)\n",
      "#steps: 122\n",
      "(4.4971193690170237, -0.21723213409405515)\n",
      "#steps: 122\n",
      "(4.4971193690170237, -0.21723213409405515)\n",
      "#steps: 122\n",
      "(4.4971193690170237, -0.21723213409405515)\n",
      "#steps: 122\n",
      "(4.4971193690170237, -0.21723213409405515)\n",
      "#steps: 122\n",
      "(4.4971193690170237, -0.21723213409405515)\n",
      "#steps: 122\n",
      "(4.4971193690170237, -0.21723213409405515)\n",
      "#steps: 122\n",
      "(4.4971193690170237, -0.21723213409405515)\n",
      "#steps: 122\n",
      "(4.4971193690170237, -0.21723213409405515)\n",
      "#steps: 122\n",
      "(4.4971193690170237, -0.21723213409405515)\n",
      "#steps: 122\n",
      "(4.4971193690170237, -0.21723213409405515)\n",
      "#steps: 122\n",
      "(4.4971193690170237, -0.21723213409405515)\n",
      "#steps: 122\n",
      "(4.4971193690170237, -0.21723213409405515)\n",
      "#steps: 122\n",
      "(4.4971193690170237, -0.21723213409405515)\n",
      "#steps: 122\n",
      "(4.4971193690170237, -0.21723213409405515)\n",
      "10 loops, best of 3: 18.3 ms per loop\n"
     ]
    }
   ],
   "source": [
    "%%timeit -n 10\n",
    "print(pijavskij(f, 1, A, B, eps))"
   ]
  }
 ],
 "metadata": {
  "anaconda-cloud": {},
  "kernelspec": {
   "display_name": "Python [conda root]",
   "language": "python",
   "name": "conda-root-py"
  },
  "language_info": {
   "codemirror_mode": {
    "name": "ipython",
    "version": 3
   },
   "file_extension": ".py",
   "mimetype": "text/x-python",
   "name": "python",
   "nbconvert_exporter": "python",
   "pygments_lexer": "ipython3",
   "version": "3.5.2"
  }
 },
 "nbformat": 4,
 "nbformat_minor": 2
}
